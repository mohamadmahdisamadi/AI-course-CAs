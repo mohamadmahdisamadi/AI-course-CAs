{
 "cells": [
  {
   "cell_type": "markdown",
   "metadata": {},
   "source": [
    "# First Assignment of AI\n",
    "\n",
    "Professors: Fadaei and Yaghoob Zade\n",
    "\n",
    "Mohamad Mahdi Samadi\n",
    "\n",
    "810101465"
   ]
  },
  {
   "cell_type": "code",
   "execution_count": 1,
   "metadata": {},
   "outputs": [],
   "source": [
    "import pandas as pd\n",
    "import random\n",
    "import numpy as np\n"
   ]
  },
  {
   "cell_type": "markdown",
   "metadata": {},
   "source": [
    "Defined numbers used in code:\n",
    "\n",
    "At first we have some parameters given in the problem description."
   ]
  },
  {
   "cell_type": "code",
   "execution_count": 2,
   "metadata": {},
   "outputs": [],
   "source": [
    "\n",
    "file_path = 'snacks.csv'\n",
    "min_value = 20\n",
    "max_weight = 15\n",
    "min_snack = 3\n",
    "max_snack = 5\n",
    "p_size = 200"
   ]
  },
  {
   "cell_type": "markdown",
   "metadata": {},
   "source": [
    "The fitness function applies a number between zero and ten to each chromosome which is distributed among parameters i defined. First three parameters are obvious. But the last one is defined as value/weight for each snack which is very imortant to us because there is a limit for total space and value of snacks."
   ]
  },
  {
   "cell_type": "code",
   "execution_count": 3,
   "metadata": {},
   "outputs": [],
   "source": [
    "value_rate = 2\n",
    "weight_rate = 2\n",
    "diversity_rate = 2\n",
    "density_rate = 4\n",
    "p_crossover = 0.5\n",
    "p_mutation = 0.1"
   ]
  },
  {
   "cell_type": "markdown",
   "metadata": {},
   "source": [
    "There are infinite numbers between 0 and 100. We could break the interval to some sub-intervals and calculations whould be much easier."
   ]
  },
  {
   "cell_type": "code",
   "execution_count": 4,
   "metadata": {},
   "outputs": [],
   "source": [
    "interval_cnt = 5\n",
    "interval_len = 100//interval_cnt"
   ]
  },
  {
   "cell_type": "markdown",
   "metadata": {},
   "source": [
    "This is start of the program.\n",
    "At first given csv file is loaded. It contains information about snacks such as their names, values and weights."
   ]
  },
  {
   "cell_type": "code",
   "execution_count": 5,
   "metadata": {},
   "outputs": [],
   "source": [
    "df = pd.read_csv(file_path)\n",
    "weight = [int(w)/(interval_cnt) for w in list(df['Available Weight'])]\n",
    "value = [int(v)/(interval_cnt) for v in list(df['Value'])]\n",
    "name = ([n for n in list(df['Snack'])])\n",
    "density = [value[i]/weight[i] for i in range(len(value))]\n",
    "snacks_num = len(value)"
   ]
  },
  {
   "cell_type": "markdown",
   "metadata": {},
   "source": [
    "After loading data we have to create an initial generation for start. Let's define some concepts used in this algorithm.\n",
    "\n",
    "Generation: formed by some chromosomes.\n",
    "\n",
    "Chromosome: Includes 19 genes in this particular case. It represents a knapsack with its snacks\n",
    "\n",
    "Gene: Each gene represent a snack in this problem. It has an integer value between zero and number of intervals. For example if a gene has value 7 it means that we pack 70 percent of that snack into our knapsack. So the gained value and used space by this snack whould be 70 percent of what is written in the file.\n",
    "\n",
    "Here is a function to generate first population. We can specify the number of snacks of each knapsack in two ways. It could be a random number between 0 to number of all snacks or it could be between lower and upper bound of number of snacks defined in the problem. The first method is more logical because we want the first generation to be completely random but the second one leads us to an complete answer in much less time. Here we use the second one so that running time of the program whould be shorter and easier for TA to check the final answer. After that we have to pick random snacks with random value. We know that there is no guarantee there would be a complete answer between them. Actually it's unlikely to happen. "
   ]
  },
  {
   "cell_type": "code",
   "execution_count": 6,
   "metadata": {},
   "outputs": [],
   "source": [
    "def generate_population():\n",
    "    population = []\n",
    "    for _ in range(p_size):\n",
    "        chromosome = [0] * snacks_num\n",
    "        snacks_cnt = random.randint(min_snack, max_snack)\n",
    "        #snacks_cnt = random.randint(0, 19)\n",
    "        chosen_snacks = 0\n",
    "        while chosen_snacks < snacks_cnt:\n",
    "            ind = random.randint(0, snacks_num-1)\n",
    "            if (chromosome[ind] == 0):\n",
    "                chromosome[ind] = random.randint(1, interval_cnt)\n",
    "                chosen_snacks += 1\n",
    "        population.append(chromosome)\n",
    "    return population"
   ]
  },
  {
   "cell_type": "markdown",
   "metadata": {},
   "source": [
    "This function decodes chromosomes and will be used in the next steps."
   ]
  },
  {
   "cell_type": "code",
   "execution_count": 7,
   "metadata": {},
   "outputs": [],
   "source": [
    "def decode_chromosome(chromosome):\n",
    "    total_weight, total_value, total_snacks, total_density = 0, 0, 0, 0    \n",
    "    for i in range(len(chromosome)):\n",
    "        gene = chromosome[i]\n",
    "        if gene != 0:\n",
    "            total_weight += gene * weight[i]\n",
    "            total_value += gene * value[i]\n",
    "            total_snacks += 1\n",
    "            total_density += density[i]\n",
    "    return [total_weight, total_value, total_snacks, total_density/len(chromosome)]\n"
   ]
  },
  {
   "cell_type": "markdown",
   "metadata": {},
   "source": [
    "These are the functions used to calculate fitness of each chromosome. There are 4 factors considered.\n",
    "\n",
    "Value: if it's equal to or more than minimum asked value, It gets the whole score of this part. If not and it gets a part of the score (linear relationship)\n",
    "\n",
    "Weight: It's exatly like value.\n",
    "\n",
    "Density: It's defined as mean of density for all the genes in chromosome.\n",
    "\n",
    "All of them together makes the fitness out of 10."
   ]
  },
  {
   "cell_type": "code",
   "execution_count": 8,
   "metadata": {},
   "outputs": [],
   "source": [
    "def rate_value(v):\n",
    "    return value_rate * min(1, v/min_value)\n",
    "\n",
    "def rate_weight(w):\n",
    "    if w > 0:\n",
    "        return weight_rate * min(1, max_weight/w)\n",
    "    return 0\n",
    "\n",
    "def rate_diversity(d):\n",
    "    if d >= min_snack and d <= max_snack:\n",
    "        return diversity_rate\n",
    "    return 0\n",
    "\n",
    "def rate_density(d):\n",
    "    return min(d, density_rate)\n",
    "\n",
    "def calc_fitness(chromosome):\n",
    "    fitness = 0\n",
    "    total_weight, total_value, total_snacks, total_density = decode_chromosome(chromosome)\n",
    "    \n",
    "    fitness += rate_weight(total_weight)\n",
    "    fitness += rate_value(total_value)\n",
    "    fitness += rate_diversity(total_snacks)\n",
    "    fitness += rate_density(total_density)\n",
    "    return fitness\n"
   ]
  },
  {
   "cell_type": "markdown",
   "metadata": {},
   "source": [
    "Now we can take a sample of them. The higher the fitness is, The more the chance of that chromosome to appear in next generation. I used fitness proportionate selection (FPS) for this part. It means that the chance of getting picked has linear relationship with fitness."
   ]
  },
  {
   "cell_type": "code",
   "execution_count": 9,
   "metadata": {},
   "outputs": [],
   "source": [
    "def calc_probabilities(fitness):\n",
    "    total_fitness = np.sum(fitness)\n",
    "    probabilities = [f/total_fitness for f in fitness]\n",
    "    return probabilities\n",
    "\n",
    "def take_sample(population, probabilities):\n",
    "    sample_population = random.choices(population, weights=probabilities, k=len(population))\n",
    "    return sample_population\n",
    "def shuffle_sample(sample_generation):\n",
    "    for _ in range(7):\n",
    "        random.shuffle(sample_generation)\n"
   ]
  },
  {
   "cell_type": "markdown",
   "metadata": {},
   "source": [
    "This is the crossover function. I used 1 point method. It's easy and fast but not the best way to improve our chromosomes. "
   ]
  },
  {
   "cell_type": "code",
   "execution_count": 10,
   "metadata": {},
   "outputs": [],
   "source": [
    "def crossover(population):\n",
    "    i = 0\n",
    "    while i < len(population) - 1:\n",
    "        cross_point = int(snacks_num*0.5)\n",
    "        first_child = population[i][:cross_point] + population[i+1][cross_point:]\n",
    "        second_child = population[i][cross_point:] + population[i+1][:cross_point]\n",
    "        population[i], population[i+1] = first_child, second_child\n",
    "        i += 2\n"
   ]
  },
  {
   "cell_type": "markdown",
   "metadata": {},
   "source": [
    "Here is the main reasone why our chromosomes improves after each generation. After crossovering pair of chromosomes we can mutate them too. It means that each gene with probability of p_mutation whould change and we hope it leads us to a better chromosome. p_mutation is different for each gene. If a chromosome is already good then we don't have to change it and p whould be small and if it's not good we will change it."
   ]
  },
  {
   "cell_type": "code",
   "execution_count": 11,
   "metadata": {},
   "outputs": [],
   "source": [
    "def mutate(population, fitness):\n",
    "    for i in range(len(population)):\n",
    "        flip_prob = 1 - fitness[i]/10\n",
    "        for j in range(len(population[i])):\n",
    "            if random.randint(0, 1000)/1000 < flip_prob:\n",
    "                population[i][j] = 1 - population[i][j]\n"
   ]
  },
  {
   "cell_type": "markdown",
   "metadata": {},
   "source": [
    "These two functions are used to find out if an answer is complete and then print it."
   ]
  },
  {
   "cell_type": "code",
   "execution_count": 12,
   "metadata": {},
   "outputs": [],
   "source": [
    "def is_answer(phenotype):\n",
    "    total_weight, total_value, total_snacks = phenotype\n",
    "    if (total_snacks >= min_snack and total_snacks <= max_snack):\n",
    "        if (total_weight <= max_weight and total_value >= min_value):\n",
    "            return True\n",
    "    return False\n",
    "\n",
    "def show_answer(chromosome, phenotype):\n",
    "    print(chromosome)\n",
    "    print('total weight:', phenotype[0])\n",
    "    print('total value:', phenotype[1])\n",
    "    print('snacks num:', phenotype[2])\n",
    "    print()\n",
    "    for i in range(len(chromosome)):\n",
    "        gene = chromosome[i]\n",
    "        if (gene != 0):\n",
    "            print(name[i])\n",
    "            print('value', value[i] * gene, 'weight', weight[i] * gene)\n"
   ]
  },
  {
   "cell_type": "markdown",
   "metadata": {},
   "source": [
    "We've prepared everything is needed to run the algorithm. Now let's put them together in the main function."
   ]
  },
  {
   "cell_type": "code",
   "execution_count": 13,
   "metadata": {},
   "outputs": [
    {
     "name": "stdout",
     "output_type": "stream",
     "text": [
      "[0, 0, 1, 5, 0, 0, 0, 0, 0, 0, 0, 0, 0, 0, 1, 0, 0, 1, 0]\n",
      "total weight: 11.8\n",
      "total value: 20.0\n",
      "snacks num: 4\n",
      "\n",
      "Nani\n",
      "value 1.0 weight 1.0\n",
      "Jooj\n",
      "value 15.0 weight 7.0\n",
      "Tordilla\n",
      "value 1.8 weight 2.0\n",
      "Saghe-Talaei\n",
      "value 2.2 weight 1.8\n",
      "a complete answer has been found after 238 generations\n"
     ]
    }
   ],
   "source": [
    "def main():\n",
    "    population = generate_population()\n",
    "    i = 1\n",
    "    while True:\n",
    "        i += 1\n",
    "        fitness = [calc_fitness(chromosome) for chromosome in population]\n",
    "        probabilities = calc_probabilities(fitness)\n",
    "        sample_population = take_sample(population, probabilities)\n",
    "        shuffle_sample(sample_population)\n",
    "        crossover(sample_population)\n",
    "        mutate(sample_population, fitness)\n",
    "        for chromosome in sample_population:\n",
    "            phenotype = decode_chromosome(chromosome)\n",
    "            not_negative = True\n",
    "            for gene in chromosome:\n",
    "                if gene < 0:\n",
    "                    not_negative = False\n",
    "            if (is_answer(phenotype[:3]) and not_negative):\n",
    "                show_answer(chromosome, phenotype)\n",
    "                print('a complete answer has been found after', i, 'generations')\n",
    "                return\n",
    "    \n",
    "    \n",
    "main()"
   ]
  },
  {
   "cell_type": "markdown",
   "metadata": {},
   "source": [
    "There are some qustions at the end of assignment description.\n",
    "\n",
    "1. with small initial population we have a harder way to reach a complete solution. But it's fast because of the small space we take and faster to procces them. On the other hand if we start with big population there are more kinds of chromosomes and better combinations. But it's slow and takes more time and space to run. SO it's important to start with a reasonable size of initial population.\n",
    "\n",
    "2. It causes a slower algorithm than current one because of the bigger population. It also might increase our chance of finding a complete answer in fewer generations if the new chromosomes are strong enough.\n",
    "\n",
    "3. No we can't use just one of them because they have different purposes. Crossover combines two different chromosomes and make an better one but mutation is performed on single chromosome and improves it. \n",
    "\n",
    "4. I tested these and they all worked\n",
    "    1. generate more accurate initial population (it's not logical because the point of GA is to start with complete randomness)\n",
    "    2. generate bigger initial population (about 200)\n",
    "    3. use a more accurate rating system.\n",
    "    4. In the crossover step we could sort them by fitness and then pair them. In this case stronger chromosomes come together.\n",
    "\n",
    "\n",
    "\n",
    "5. The stop in the evolution of chromosomes might happen in these cases:\n",
    "    1. our initial population wasn't diverse enough\n",
    "    2. mutation and crossover doesn't happen at the right time. It's important to have a logical reason for the used p_crossover and p_mutation so that they help us find an answer faster.\n",
    "\n",
    "\n",
    "\n",
    "6. is there a complete solution for the problem or not? if not why are we searching for it? There is a greedy algorithm for the fractional knapsack problem. First sort the snacks by their density (value/weight). It's only logical to choose the snacks from the one with higher density. After that if we haven't reached the min_snack number we can choose an epsilon of some other snacks and remove that weight from current snacks. But if we pass the max_snack number or we can't fill the knapsack by given snacks there is no complete answer for this problem. But what if the problem has complete answer(s) and we can't reach them? maybe the initial generation or crossover or mutation isn't good enough. We can set a max limit for the generation and stop when reaching it."
   ]
  }
 ],
 "metadata": {
  "kernelspec": {
   "display_name": "Python 3",
   "language": "python",
   "name": "python3"
  },
  "language_info": {
   "codemirror_mode": {
    "name": "ipython",
    "version": 3
   },
   "file_extension": ".py",
   "mimetype": "text/x-python",
   "name": "python",
   "nbconvert_exporter": "python",
   "pygments_lexer": "ipython3",
   "version": "3.11.4"
  },
  "orig_nbformat": 4
 },
 "nbformat": 4,
 "nbformat_minor": 2
}
